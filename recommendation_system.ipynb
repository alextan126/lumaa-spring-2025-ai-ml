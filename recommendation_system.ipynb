{
 "cells": [
  {
   "cell_type": "markdown",
   "metadata": {},
   "source": [
    "Project Overview: The date set is a modified MovieLens ml-latest-small dataset collected by GroupLens research(https://grouplens.org/datasets/movielens/). Specifically, I used the movies dataset to generate a simple content-based recommendation system. The system relies on calculating the cosin similarity of TF-IDF (Term Frequency-Inverse Document Frequency) vectors and vectors of processed query. Then, the similarities are ranked to give top k recommendation based on similarity score."
   ]
  },
  {
   "cell_type": "markdown",
   "metadata": {},
   "source": [
    "Import necessary libraries such as panda to process data and useful scikit learn and pytorch packages "
   ]
  },
  {
   "cell_type": "code",
   "execution_count": 77,
   "metadata": {},
   "outputs": [],
   "source": [
    "import pandas as pd\n",
    "from sentence_transformers import SentenceTransformer, util\n",
    "from sklearn.feature_extraction.text import TfidfVectorizer\n",
    "from sklearn.metrics.pairwise import cosine_similarity"
   ]
  },
  {
   "cell_type": "markdown",
   "metadata": {},
   "source": [
    "Load the MovieLens data set and select 500 movies."
   ]
  },
  {
   "cell_type": "code",
   "execution_count": 78,
   "metadata": {},
   "outputs": [
    {
     "name": "stdout",
     "output_type": "stream",
     "text": [
      "<class 'pandas.core.frame.DataFrame'>\n",
      "Index: 500 entries, 6213 to 1593\n",
      "Data columns (total 3 columns):\n",
      " #   Column   Non-Null Count  Dtype \n",
      "---  ------   --------------  ----- \n",
      " 0   movieId  500 non-null    int64 \n",
      " 1   title    500 non-null    object\n",
      " 2   genres   500 non-null    object\n",
      "dtypes: int64(1), object(2)\n",
      "memory usage: 15.6+ KB\n"
     ]
    }
   ],
   "source": [
    "# Load dataset\n",
    "file_path = 'ml-latest-small/movies.csv'  \n",
    "df = pd.read_csv(file_path)\n",
    "# Randomly select a smaller subset, use seed to ensure reprodcutivity\n",
    "df = df.sample(n=500, random_state=42)\n",
    "\n",
    "# Inspect the dataset, no further process needed\n",
    "df.info()\n",
    "# df.head()"
   ]
  },
  {
   "cell_type": "markdown",
   "metadata": {},
   "source": [
    "TF-IDF (Term Frequency-Inverse Document Frequency) vectors of the movies are computed using Scikit-learn package. \n"
   ]
  },
  {
   "cell_type": "code",
   "execution_count": null,
   "metadata": {},
   "outputs": [],
   "source": [
    "#initlized the vectorizer\n",
    "vectorizer = TfidfVectorizer(stop_words='english')\n",
    "\n",
    "# Compute TF-IDF matrix\n",
    "tfidf_matrix = vectorizer.fit_transform(df['genres'])\n",
    "# Display the shape of the TF-IDF matrix\n",
    "#print(f\"TF-IDF Matrix Shape: {tfidf_matrix.shape}\")"
   ]
  },
  {
   "cell_type": "markdown",
   "metadata": {},
   "source": [
    "process_query process the input query so the query matches more closely with genres. Top 3 genres in the input query with cosin similarity score greater than 0.3 will be used as the output query.\n",
    "\n",
    "Sentence transformer detects the semantic meaning the input query, for example, love has the same semantic meaning as romance.\n"
   ]
  },
  {
   "cell_type": "code",
   "execution_count": 84,
   "metadata": {},
   "outputs": [],
   "source": [
    "def process_query(query, df, ):\n",
    "    # Extract unique genres from the DataFrame\n",
    "    unique_genres = set()\n",
    "    for genres in df['genres']:\n",
    "        unique_genres.update(genres.split('|'))\n",
    "    unique_genres = list(unique_genres) \n",
    "\n",
    "    # Load a pre-trained Sentence Transformer model\n",
    "    model = SentenceTransformer('all-MiniLM-L6-v2') \n",
    "    \n",
    "    # Encode the query and genres\n",
    "    query_embedding = model.encode(query)\n",
    "    genre_embeddings = model.encode(unique_genres)\n",
    "\n",
    "    # Compute cosine similarity between the query and genres\n",
    "    similarities = util.cos_sim(query_embedding, genre_embeddings)\n",
    "\n",
    "    # Map genres to their similarity scores\n",
    "    genre_similarity_scores = {genre: score.item() for genre, score in zip(unique_genres, similarities[0])}\n",
    "\n",
    "    # Append the top 3 most relevant genres to the query and filter by similairty score\n",
    "    top_genres = sorted(genre_similarity_scores.items(), key=lambda x: x[1], reverse=True)[:3]\n",
    "    processed_query = \" \" + \" \".join([genre for genre, score in top_genres if score > 0.3])\n",
    "    print(\"Processed Query:\", processed_query)\n",
    "    return processed_query"
   ]
  },
  {
   "cell_type": "markdown",
   "metadata": {},
   "source": [
    "Here is an example where you can test the process-query function"
   ]
  },
  {
   "cell_type": "code",
   "execution_count": null,
   "metadata": {},
   "outputs": [
    {
     "name": "stdout",
     "output_type": "stream",
     "text": [
      "Processed Query:  Romance Film-Noir Thriller\n"
     ]
    },
    {
     "data": {
      "text/plain": [
       "' Romance Film-Noir Thriller'"
      ]
     },
     "execution_count": 87,
     "metadata": {},
     "output_type": "execute_result"
    }
   ],
   "source": [
    "query = \"Movie with boyfriend-girlfriend relationship\"\n",
    "process_query(query, df)"
   ]
  },
  {
   "cell_type": "markdown",
   "metadata": {},
   "source": [
    "Main function for recommendation. \n",
    "\n",
    "The cosin similarity of TF-IDF matrix of movies and vectors of processed query are calculated then ranked. Recommendation is given based on ranked cosin similarity."
   ]
  },
  {
   "cell_type": "code",
   "execution_count": 81,
   "metadata": {},
   "outputs": [],
   "source": [
    "def recommend_items(query, df, tfidf_matrix, vectorizer, top_n=5):\n",
    "    query = process_query(query,df)\n",
    "    # Transform the query into a TF-IDF vector\n",
    "    query_vec = vectorizer.transform([query])\n",
    "    \n",
    "    # Compute cosine similarity between the query and all items\n",
    "    cosine_similarities = cosine_similarity(query_vec, tfidf_matrix).flatten()\n",
    "    \n",
    "    # Add similarity scores to the dataframe\n",
    "    recommendations = df.copy()\n",
    "    recommendations['similarity'] = cosine_similarities\n",
    "    \n",
    "    # Sort by similarity and return the top N items\n",
    "    recommendations = recommendations.sort_values(by='similarity', ascending=False).head(top_n)\n",
    "    #print(recommendations)\n",
    "    return recommendations[['title', 'similarity']]"
   ]
  },
  {
   "cell_type": "markdown",
   "metadata": {},
   "source": [
    "Here is an example of using this recommendation system"
   ]
  },
  {
   "cell_type": "code",
   "execution_count": 88,
   "metadata": {},
   "outputs": [
    {
     "name": "stdout",
     "output_type": "stream",
     "text": [
      "Processed Query:  Sci-Fi Thriller Comedy\n",
      "Top Recommendations:\n",
      "                                     title  similarity\n",
      "3617  Incredible Shrinking Man, The (1957)    0.933803\n",
      "8923            Absolutely Anything (2015)    0.888347\n",
      "7300           Hot Tub Time Machine (2010)    0.888347\n",
      "3973     Man in the White Suit, The (1951)    0.888347\n",
      "3352                  Short Circuit (1986)    0.888347\n"
     ]
    }
   ],
   "source": [
    "# Example query\n",
    "query = \"I love thrilling action movies set in space, with a comedic twist.\"\n",
    "#query = \"romance and action\"\n",
    "\n",
    "# Get recommendations\n",
    "recommendations = recommend_items(query, df, tfidf_matrix, vectorizer)\n",
    "\n",
    "# Display the results\n",
    "print(\"Top Recommendations:\")\n",
    "print(recommendations)"
   ]
  }
 ],
 "metadata": {
  "kernelspec": {
   "display_name": "myenv",
   "language": "python",
   "name": "python3"
  },
  "language_info": {
   "codemirror_mode": {
    "name": "ipython",
    "version": 3
   },
   "file_extension": ".py",
   "mimetype": "text/x-python",
   "name": "python",
   "nbconvert_exporter": "python",
   "pygments_lexer": "ipython3",
   "version": "3.11.8"
  }
 },
 "nbformat": 4,
 "nbformat_minor": 2
}
